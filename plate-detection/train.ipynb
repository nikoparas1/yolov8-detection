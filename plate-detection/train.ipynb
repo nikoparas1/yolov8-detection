{
  "cells": [
    {
      "cell_type": "code",
      "execution_count": null,
      "id": "cec1f4b4",
      "metadata": {
        "colab": {
          "base_uri": "https://localhost:8080/"
        },
        "id": "cec1f4b4",
        "outputId": "e67916ef-9052-4985-a031-9721c11303ca"
      },
      "outputs": [],
      "source": [
        "from ultralytics import YOLO"
      ]
    },
    {
      "cell_type": "markdown",
      "id": "c292870e",
      "metadata": {
        "id": "c292870e"
      },
      "source": [
        "# Load Dataset and Pretrained YOLO V8 Model"
      ]
    },
    {
      "cell_type": "code",
      "execution_count": null,
      "id": "285694c2",
      "metadata": {
        "colab": {
          "base_uri": "https://localhost:8080/"
        },
        "id": "285694c2",
        "outputId": "8ba6b1fb-fee1-4a49-eb37-e45d7a266c37"
      },
      "outputs": [],
      "source": [
        "dataset = \"data.yaml\"\n",
        "\n",
        "backbone = YOLO(\"yolov8n.pt\")"
      ]
    },
    {
      "cell_type": "markdown",
      "id": "1a43fc55",
      "metadata": {
        "id": "1a43fc55"
      },
      "source": [
        "# Retrain the model with license plate dataset"
      ]
    },
    {
      "cell_type": "markdown",
      "id": "11b025f4",
      "metadata": {},
      "source": [
        "### Recommended to train the model on GPU Hardware"
      ]
    },
    {
      "cell_type": "code",
      "execution_count": null,
      "id": "ae80007f",
      "metadata": {
        "colab": {
          "base_uri": "https://localhost:8080/"
        },
        "id": "ae80007f",
        "outputId": "559d3088-a6c3-49c0-815c-50e22e30cdb4"
      },
      "outputs": [],
      "source": [
        "results = backbone.train(data=dataset, epochs=20)"
      ]
    },
    {
      "cell_type": "markdown",
      "id": "fc6eb0dc",
      "metadata": {},
      "source": [
        "# Evaluate the results"
      ]
    },
    {
      "cell_type": "code",
      "execution_count": null,
      "id": "fO6uyiknP0r2",
      "metadata": {
        "colab": {
          "base_uri": "https://localhost:8080/"
        },
        "id": "fO6uyiknP0r2",
        "outputId": "6b07d5ff-f213-4a35-b112-d9a39c6e31a6"
      },
      "outputs": [],
      "source": [
        "results = backbone.val()"
      ]
    },
    {
      "cell_type": "markdown",
      "id": "d766d91f",
      "metadata": {},
      "source": [
        "# Test model out on sample data"
      ]
    },
    {
      "cell_type": "code",
      "execution_count": null,
      "id": "tqiK7uWwTe50",
      "metadata": {
        "colab": {
          "base_uri": "https://localhost:8080/"
        },
        "id": "tqiK7uWwTe50",
        "outputId": "1dd52b92-2b53-4e20-b3e9-7455f07d9754"
      },
      "outputs": [],
      "source": [
        "results = backbone(source=\"sample/sample-img.jpg\")\n",
        "\n",
        "results = backbone(source=\"sample/sample-img2.jpg\")\n",
        "\n",
        "results = backbone(source=\"sample/sample-img3.jpg\")"
      ]
    }
  ],
  "metadata": {
    "accelerator": "GPU",
    "colab": {
      "gpuType": "T4",
      "provenance": []
    },
    "kernelspec": {
      "display_name": "Python 3",
      "name": "python3"
    },
    "language_info": {
      "codemirror_mode": {
        "name": "ipython",
        "version": 3
      },
      "file_extension": ".py",
      "mimetype": "text/x-python",
      "name": "python",
      "nbconvert_exporter": "python",
      "pygments_lexer": "ipython3",
      "version": "3.12.4"
    }
  },
  "nbformat": 4,
  "nbformat_minor": 5
}

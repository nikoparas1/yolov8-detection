{
 "cells": [
  {
   "cell_type": "code",
   "execution_count": null,
   "id": "ed45d129",
   "metadata": {},
   "outputs": [],
   "source": [
    "from ultralytics import YOLO\n",
    "import cv2\n",
    "import os\n",
    "from glob import glob"
   ]
  },
  {
   "cell_type": "code",
   "execution_count": null,
   "id": "3fcd1774",
   "metadata": {},
   "outputs": [],
   "source": [
    "VEHICLE_CLASSES = {2, 3, 5, 7}\n",
    "PAD = 10\n",
    "\n",
    "vehicle_model = YOLO('../yolov8n.pt')\n",
    "plate_model = YOLO('../detection-plate/runs/detect/train/weights/best.pt')"
   ]
  },
  {
   "cell_type": "code",
   "execution_count": null,
   "id": "ef38fb7a",
   "metadata": {},
   "outputs": [],
   "source": [
    "def detect_plates_on_vehicles(image_path, out_path=None):\n",
    "    img = cv2.imread(image_path)\n",
    "    # Stage 1: detect vehicles\n",
    "    v_results = vehicle_model(img)[0]\n",
    "    for box in v_results.boxes:\n",
    "        cls = int(box.cls)\n",
    "        if cls not in VEHICLE_CLASSES:\n",
    "            continue\n",
    "        x1, y1, x2, y2 = map(int, box.xyxy[0])\n",
    "        # Optional: add margin to the crop\n",
    "        pad = 10\n",
    "        x1m, y1m = max(0, x1 - pad), max(0, y1 - pad)\n",
    "        x2m, y2m = min(img.shape[1], x2 + pad), min(img.shape[0], y2 + pad)\n",
    "        crop = img[y1m:y2m, x1m:x2m]\n",
    "\n",
    "        # Stage 2: detect plates in the cropped vehicle\n",
    "        p_results = plate_model(crop)[0]\n",
    "        for pbox in p_results.boxes:\n",
    "            px1, py1, px2, py2 = map(int, pbox.xyxy[0])\n",
    "            # Map plate coords back to original image\n",
    "            ox1, oy1 = px1 + x1m, py1 + y1m\n",
    "            ox2, oy2 = px2 + x1m, py2 + y1m\n",
    "            # Draw plate bbox\n",
    "            cv2.rectangle(img, (ox1, oy1), (ox2, oy2), (0, 255, 0), 2)\n",
    "            cv2.putText(\n",
    "                img,\n",
    "                f\"plate {pbox.conf[0]:.2f}\",\n",
    "                (ox1, oy1 - 5),\n",
    "                cv2.FONT_HERSHEY_SIMPLEX,\n",
    "                0.5,\n",
    "                (0, 255, 0),\n",
    "                1,\n",
    "            )\n",
    "\n",
    "    # Draw vehicle boxes (optional)\n",
    "    for box in v_results.boxes:\n",
    "        cls = int(box.cls)\n",
    "        if cls in VEHICLE_CLASSES:\n",
    "            x1, y1, x2, y2 = map(int, box.xyxy[0])\n",
    "            cv2.rectangle(img, (x1, y1), (x2, y2), (255, 0, 0), 2)\n",
    "            cv2.putText(\n",
    "                img,\n",
    "                f\"{vehicle_model.names[cls]} {box.conf[0]:.2f}\",\n",
    "                (x1, y2 + 15),\n",
    "                cv2.FONT_HERSHEY_SIMPLEX,\n",
    "                0.5,\n",
    "                (255, 0, 0),\n",
    "                1,\n",
    "            )\n",
    "\n",
    "    if out_path:\n",
    "        cv2.imwrite(out_path, img)\n",
    "    return img"
   ]
  },
  {
   "cell_type": "code",
   "execution_count": null,
   "id": "936a27db",
   "metadata": {},
   "outputs": [],
   "source": [
    "TEST_DIR=\"../test/images\"\n",
    "TEST_RESULTS_DIR=\"./test-results\"\n",
    "\n",
    "os.makedirs(TEST_RESULTS_DIR, exist_ok=True)\n",
    "\n",
    "for fname in os.listdir(TEST_DIR):\n",
    "    if not fname.lower().endswith((\".jpg\", \".jpeg\", \".png\")):\n",
    "        continue\n",
    "    in_path = os.path.join(TEST_DIR, fname)\n",
    "    out_path = os.path.join(TEST_RESULTS_DIR, fname)\n",
    "\n",
    "    result = detect_plates_on_vehicles(in_path, out_path)\n",
    "\n",
    "    out_file = os.path.join(TEST_RESULTS_DIR, os.path.basename(fname))\n",
    "    cv2.imwrite(out_file, result)\n",
    "    print(f\"[OK] Wrote {out_path}\")"
   ]
  },
  {
   "cell_type": "code",
   "execution_count": null,
   "id": "b58024c4",
   "metadata": {},
   "outputs": [],
   "source": [
    "videos = glob(\"../test/videos/*.mp4\")\n",
    "print(videos)"
   ]
  },
  {
   "cell_type": "code",
   "execution_count": null,
   "id": "55db7f7f",
   "metadata": {},
   "outputs": [],
   "source": [
    "VIDEO_IN = videos[0]\n",
    "VIDEO_OUT = videos[0].replace(\".mp4\", \"\").replace(\"../test/videos/\", \"./\") + \"_out.mp4\"\n",
    "\n",
    "print(VIDEO_IN)\n",
    "print(VIDEO_OUT)"
   ]
  }
 ],
 "metadata": {
  "kernelspec": {
   "display_name": "Python 3",
   "language": "python",
   "name": "python3"
  },
  "language_info": {
   "codemirror_mode": {
    "name": "ipython",
    "version": 3
   },
   "file_extension": ".py",
   "mimetype": "text/x-python",
   "name": "python",
   "nbconvert_exporter": "python",
   "pygments_lexer": "ipython3",
   "version": "3.12.4"
  }
 },
 "nbformat": 4,
 "nbformat_minor": 5
}
